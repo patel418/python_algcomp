{
 "cells": [
  {
   "cell_type": "markdown",
   "metadata": {
    "collapsed": false,
    "deletable": true,
    "editable": true
   },
   "source": [
    "\n",
    "Here is a public dataset of \"mammographic masses\" coming from https://archive.ics.uci.edu/ml/datasets/Mammographic+Mass\n",
    "\n",
    "There are 961 samples of masses detected in mammograms. Each sample has 6 attributes: BI-RADS assessment, Age, Shape, Margin, Density, and Seversity\n",
    "\n",
    "BI-RADS Assessment- 1 to 5 (ordinal)\n",
    "\n",
    "Age- Age in years (integer)\n",
    "\n",
    "Shape(shape of mass)- 1(round), 2(oval), 3(lobular), 4(irregular) (nominal)\n",
    "\n",
    "Margin(mass margin)- 1(circumsscribed), 2(microlobulated), 3(obscured), 4(ill-defined), 5(spiculated) (nominal)\n",
    "\n",
    "Density(mass density)- 1(high), 2(iso), 3(low), 4(fat-containing) (ordinal)\n",
    "\n",
    "Severity- 0(benign), 1(malignant) (binominal)\n",
    "\n",
    "More information from the dataset can be read from \"mammographic_masses.names.txt\""
   ]
  },
  {
   "cell_type": "markdown",
   "metadata": {
    "deletable": true,
    "editable": true
   },
   "source": [
    "Initially we must import required libraries and read/clean in the data"
   ]
  },
  {
   "cell_type": "code",
   "execution_count": 12,
   "metadata": {
    "collapsed": true,
    "deletable": true,
    "editable": true
   },
   "outputs": [],
   "source": [
    "import numpy as np\n",
    "import pandas as pd\n",
    "\n",
    "from sklearn import preprocessing\n",
    "from sklearn import svm\n",
    "from sklearn.model_selection import cross_val_score\n",
    "from sklearn import neighbors\n",
    "import matplotlib.pyplot as pp\n",
    "import warnings\n",
    "warnings.filterwarnings('ignore')\n",
    "\n",
    "cols = [\"BI-RADS\", \"Age\", \"Shape\", \"Margin\", \"Density\", \"Severity\"]\n",
    "\n",
    "mmg = pd.read_csv(\"mammographic_masses.data.txt\", na_values=[\"?\"], names = cols)\n",
    "\n",
    "data = np.array(mmg.to_records())"
   ]
  },
  {
   "cell_type": "markdown",
   "metadata": {
    "deletable": true,
    "editable": true
   },
   "source": [
    "We will now see the description of the dataset and drop any rows with NaN"
   ]
  },
  {
   "cell_type": "code",
   "execution_count": 13,
   "metadata": {
    "collapsed": false,
    "deletable": true,
    "editable": true
   },
   "outputs": [],
   "source": [
    "mmg.describe()\n",
    "\n",
    "mmg.dropna(inplace=True)\n"
   ]
  },
  {
   "cell_type": "markdown",
   "metadata": {
    "deletable": true,
    "editable": true
   },
   "source": [
    "Severity is the output for our binary classification. Additionally we must load all other features into a numpy array and normalize the dataset"
   ]
  },
  {
   "cell_type": "code",
   "execution_count": 14,
   "metadata": {
    "collapsed": false,
    "deletable": true,
    "editable": true
   },
   "outputs": [],
   "source": [
    "\n",
    "\n",
    "y = mmg[\"Severity\"].values\n",
    "X = mmg[[\"BI-RADS\", \"Age\", \"Shape\", \"Margin\", \"Density\"]].values\n",
    "\n",
    "Z = mmg[[\"BI-RADS\", \"Age\", \"Shape\", \"Margin\", \"Density\", \"Severity\"]].values\n",
    "\n",
    "#X = preprocessing.StandardScaler().fit_transform(X)"
   ]
  },
  {
   "cell_type": "markdown",
   "metadata": {
    "deletable": true,
    "editable": true
   },
   "source": [
    "The first binary classification technique will be using a linear support vector machine with hyperparamater C tuned to 1.0. We print the error of the SVM."
   ]
  },
  {
   "cell_type": "code",
   "execution_count": 15,
   "metadata": {
    "collapsed": false,
    "deletable": true,
    "editable": true
   },
   "outputs": [
    {
     "name": "stdout",
     "output_type": "stream",
     "text": [
      "0.496899404848\n"
     ]
    }
   ],
   "source": [
    "\n",
    "n, d = X.shape\n",
    "y_predsvm = np.zeros((n, 1))\n",
    "y_temp = y.reshape(-1, 1)\n",
    "for i in range(n):\n",
    "    all_b_i = range(0, i) + range(i+1, n)\n",
    "    X_t = X[all_b_i]\n",
    "    y_t = y_temp[all_b_i]\n",
    "    svc = svm.SVC(kernel='linear', C = 1.0)\n",
    "    #y_t = y_t.reshape(-1, 1)\n",
    "    svc.fit(X_t, y_t)\n",
    "    y_predsvm[i] = svc.predict(X[i])\n",
    "errsvm = np.mean(y!=y_predsvm)\n",
    "\n",
    "print errsvm\n",
    "    "
   ]
  },
  {
   "cell_type": "markdown",
   "metadata": {
    "deletable": true,
    "editable": true
   },
   "source": [
    "Another method for this binary classification is to use K-Nearest-Neighbors. We first start with K=8 but later vary this hyperparameter. The error for KNN is printed."
   ]
  },
  {
   "cell_type": "code",
   "execution_count": null,
   "metadata": {
    "collapsed": false,
    "deletable": true,
    "editable": true
   },
   "outputs": [
    {
     "name": "stdout",
     "output_type": "stream",
     "text": [
      "0.498710988532\n"
     ]
    }
   ],
   "source": [
    "from sklearn.model_selection import cross_val_score\n",
    "y_predknn = np.zeros((n, 1))\n",
    "for i in range(n):\n",
    "    all_b_i = range(0, i) + range(i+1, n)\n",
    "    X_t = X[all_b_i]\n",
    "    y_t = y[all_b_i]\n",
    "    c = neighbors.KNeighborsClassifier(n_neighbors=8)\n",
    "    c.fit(X_t, y_t)\n",
    "    y_predknn[i] = c.predict(X[i])  \n",
    "knnerr = np.mean(y!=y_predknn)\n",
    "cv2 = cross_val_score(c, X, y, cv=10)\n",
    "\n",
    "print knnerr"
   ]
  },
  {
   "cell_type": "markdown",
   "metadata": {
    "deletable": true,
    "editable": true
   },
   "source": [
    "Maybe I am not quite sure what the correct value of K is so I will check the first 25 iterations and evaluate each for their error"
   ]
  },
  {
   "cell_type": "code",
   "execution_count": null,
   "metadata": {
    "collapsed": false,
    "deletable": true,
    "editable": true
   },
   "outputs": [
    {
     "name": "stdout",
     "output_type": "stream",
     "text": [
      "0: 0.499477\n",
      "1: 0.495959\n",
      "2: 0.499443\n",
      "3: 0.497666\n",
      "4: 0.499199\n",
      "5: 0.498432\n",
      "6: 0.499721\n",
      "7: 0.498711\n",
      "8: 0.500000\n"
     ]
    }
   ],
   "source": [
    "for i in range(25):\n",
    "    y_predknnm = np.zeros((n,1))\n",
    "    for j in range(n):\n",
    "        all_b_i = range(0, j) + range(j+1, n)\n",
    "        X_t = X[all_b_i]\n",
    "        y_t = y[all_b_i]\n",
    "        c2 = neighbors.KNeighborsClassifier(n_neighbors=i+1)\n",
    "        c2.fit(X_t, y_t)\n",
    "        y_predknnm[j] = c2.predict(X[j])\n",
    "    print (\"%d: %f\" % (i, np.mean(y!=y_predknnm)))\n",
    "    \n",
    "    cv3 = cross_val_score(c2, X, y, cv=5)\n",
    "    "
   ]
  },
  {
   "cell_type": "markdown",
   "metadata": {
    "deletable": true,
    "editable": true
   },
   "source": [
    "According to the results K=1 has the least error of the 25 iterations"
   ]
  },
  {
   "cell_type": "markdown",
   "metadata": {
    "deletable": true,
    "editable": true
   },
   "source": [
    "The last binary classification technique I will compare is random forests. A module from sklearn.tree allows the user to print out the decisions of the entire forest! Below is the error printed for random forests."
   ]
  },
  {
   "cell_type": "code",
   "execution_count": null,
   "metadata": {
    "collapsed": false,
    "deletable": true,
    "editable": true
   },
   "outputs": [],
   "source": [
    "from sklearn.ensemble import RandomForestClassifier as rfc\n",
    "from sklearn.tree import export_graphviz\n",
    "\n",
    "import pydot\n",
    "tree = 0\n",
    "zz = 0\n",
    "y_predrf = np.zeros((n, 1))\n",
    "for i in range(n):\n",
    "    all_b_i = range(0,i) + range(i+1, n)\n",
    "    y_t2 = y[all_b_i]\n",
    "    X_t2 = X[all_b_i]\n",
    "    rf = 0\n",
    "    if (i == 4):\n",
    "        rf = rfc(n_estimators=20, max_depth=3, random_state=355)\n",
    "    else:\n",
    "        rf = rfc(n_estimators=20, random_state=355)\n",
    "        if (i == 3):\n",
    "            zz = rf\n",
    "    rf.fit(X_t, y_t)\n",
    "    \n",
    "    y_predrf[i] = rf.predict(X[i])\n",
    "    if (i == 2):\n",
    "        tree = rf.estimators_[5]\n",
    "        export_graphviz(tree, out_file = 'small_tree.dot', feature_names = cols, rounded = True)\n",
    "    if (i == 4):\n",
    "        tree = rf.estimators_[5]\n",
    "        export_graphviz(tree, out_file = 'lit_tree.dot', feature_names = cols, rounded = True)\n",
    "errrf = np.mean(y!=y_predrf)    \n",
    "print errrf\n",
    "\n",
    "    "
   ]
  },
  {
   "cell_type": "markdown",
   "metadata": {
    "deletable": true,
    "editable": true
   },
   "source": [
    "after writing to a dot file one can execute\n",
    "dot -Tpng small_tree.dot -o small_tree.png \n",
    "to write the random forest decisions to a png file\n",
    "\n"
   ]
  },
  {
   "cell_type": "markdown",
   "metadata": {
    "deletable": true,
    "editable": true
   },
   "source": [
    "![title](small_tree.png)"
   ]
  },
  {
   "cell_type": "markdown",
   "metadata": {
    "deletable": true,
    "editable": true
   },
   "source": [
    "The random forest is too hard to read due to the depth here is too high because max_depth=None so we change max_depth attribute to 3"
   ]
  },
  {
   "cell_type": "markdown",
   "metadata": {
    "deletable": true,
    "editable": true
   },
   "source": [
    "![title](lit_tree.png)"
   ]
  },
  {
   "cell_type": "markdown",
   "metadata": {
    "deletable": true,
    "editable": true
   },
   "source": [
    "We will now look at which features are the most important in determining severity. We use recursive feature elimination with the size of the features to select being 3. Recursive feature elimination works by assessing all the features initially and picks out the least important feature to ultimately get a set the size of n_features_to_selected. Additionally we use a support vector machine to compliment RFE."
   ]
  },
  {
   "cell_type": "code",
   "execution_count": null,
   "metadata": {
    "collapsed": false,
    "deletable": true,
    "editable": true
   },
   "outputs": [],
   "source": [
    "\n",
    "\n",
    "from sklearn.feature_selection import RFE\n",
    "\n",
    "n, d = X.shape\n",
    "y_pred = np.zeros((n, 1))\n",
    "y_temp = y.reshape(-1, 1)\n",
    "ranking = list()\n",
    "for i in range(n):\n",
    "    all_b_i = range(0, i) + range(i+1, n)\n",
    "    X_t = X[all_b_i]\n",
    "    y_t = y_temp[all_b_i]\n",
    "    svc = svm.SVC(kernel='linear', C = 1.0)\n",
    "    fs = RFE(svc, 3, step=1)\n",
    "    #y_t = y_t.reshape(-1, 1)\n",
    "    fs.fit(X_t, y_t)\n",
    "    #if (i == 2):\n",
    "        #plot_decision_regions(X=X_t, y=y_t.flatten(), clf=fs, legend=2)\n",
    "    y_pred[i] = fs.predict(X[i])\n",
    "    ranking.append(fs.ranking_)"
   ]
  },
  {
   "cell_type": "markdown",
   "metadata": {
    "deletable": true,
    "editable": true
   },
   "source": [
    "The list \"ranking\" consists of each sample in X being tested for which 3 features have the most importance. The most important features rank from low to high (1 is the most important)"
   ]
  },
  {
   "cell_type": "code",
   "execution_count": null,
   "metadata": {
    "collapsed": false,
    "deletable": true,
    "editable": true
   },
   "outputs": [],
   "source": [
    "#print feature selection\n",
    "i = 1\n",
    "for w in ranking:\n",
    "    print (i, w)\n",
    "    i = i+1"
   ]
  },
  {
   "cell_type": "markdown",
   "metadata": {
    "collapsed": true,
    "deletable": true,
    "editable": true
   },
   "source": [
    "Accoring to recursive feature estimate the 1st, 2nd, and 4th feature have the most importance.\n",
    "Occasionally the 2nd feature will give the 3rd feature a higher precedence but 1st and 4th are always important features"
   ]
  },
  {
   "cell_type": "markdown",
   "metadata": {
    "deletable": true,
    "editable": true
   },
   "source": [
    "Let's graph the data to have an idea of what we're looking at. Even though there are 5 dimensions, we will compare the 1st, 2nd, and 4th feature with each other"
   ]
  },
  {
   "cell_type": "code",
   "execution_count": 11,
   "metadata": {
    "collapsed": false,
    "deletable": true,
    "editable": true
   },
   "outputs": [
    {
     "data": {
      "image/png": "[encoded data removed]",
      "text/plain": [
       "<matplotlib.figure.Figure at 0x11320d750>"
      ]
     },
     "metadata": {},
     "output_type": "display_data"
    }
   ],
   "source": [
    "pp.figure()\n",
    "pp.plot(X[:,0], X[:,1], 'go') # g for green, o for circle\n",
    "pp.xlabel('Feature 1')\n",
    "pp.ylabel('Feature 2')\n",
    "pp.show()"
   ]
  },
  {
   "cell_type": "code",
   "execution_count": 12,
   "metadata": {
    "collapsed": false,
    "deletable": true,
    "editable": true
   },
   "outputs": [
    {
     "data": {
      "image/png": "[encoded data removed]",
      "text/plain": [
       "<matplotlib.figure.Figure at 0x11320d210>"
      ]
     },
     "metadata": {},
     "output_type": "display_data"
    }
   ],
   "source": [
    "pp.figure()\n",
    "pp.plot(X[:,1], X[:,3], 'bo') # b for blue, o for circle\n",
    "pp.xlabel('Feature 2')\n",
    "pp.ylabel('Feature 4')\n",
    "pp.show()"
   ]
  },
  {
   "cell_type": "code",
   "execution_count": 13,
   "metadata": {
    "collapsed": false,
    "deletable": true,
    "editable": true
   },
   "outputs": [
    {
     "data": {
      "image/png": "[encoded data removed]",
      "text/plain": [
       "<matplotlib.figure.Figure at 0x113381790>"
      ]
     },
     "metadata": {},
     "output_type": "display_data"
    }
   ],
   "source": [
    "pp.figure()\n",
    "pp.plot(X[:,3], X[:,0], 'yo') # y for yellow, o for circle\n",
    "pp.xlabel('Feature 4')\n",
    "pp.ylabel('Feature 1')\n",
    "pp.show()"
   ]
  },
  {
   "cell_type": "markdown",
   "metadata": {
    "deletable": true,
    "editable": true
   },
   "source": [
    "Lastly, to visualize each of our 3 classifiers would help us have a better idea of which algorithm can naturally best fit the data"
   ]
  },
  {
   "cell_type": "code",
   "execution_count": null,
   "metadata": {
    "collapsed": false,
    "deletable": true,
    "editable": true
   },
   "outputs": [],
   "source": [
    "\n",
    "import matplotlib.gridspec as gridspec\n",
    "import itertools\n",
    "from mlxtend.classifier import EnsembleVoteClassifier\n",
    "\n",
    "from mlxtend.plotting import plot_decision_regions\n",
    "\n",
    "# Initializing Classifiers\n",
    "clF1 = rfc(n_estimators=20, random_state=355)\n",
    "value = 1.5\n",
    "width = 0.75\n",
    "C = 0.2\n",
    "clF2 = svm.SVC(kernel='linear', C=C, probability=True)\n",
    "clF3 = neighbors.KNeighborsClassifier(n_neighbors=9)\n",
    "eclf = EnsembleVoteClassifier(clfs=[clF1, clF2, clF3],\n",
    "                              weights=[2, 1, 1], voting='soft')\n",
    "\n",
    "\n",
    "X2 = mmg[[\"BI-RADS\", \"Margin\"]].values\n",
    "X_tra = X2[:600]\n",
    "X_te = X2[600:]\n",
    "y_tra = y[:600]\n",
    "y_te = y[600:]\n",
    "\n",
    "X2 = preprocessing.StandardScaler().fit_transform(X2)\n",
    "\n",
    "gs = gridspec.GridSpec(2, 2)\n",
    "fig = pp.figure(figsize=(10, 8))\n",
    "\n",
    "labels = ['Random Forest',\n",
    "          'linear svm',\n",
    "          'KNN']\n",
    "\n",
    "i = 0\n",
    "for clfx, lab, grd in zip([clF1, clF2, clF3],\n",
    "                         labels,\n",
    "                         itertools.product([0, 1],\n",
    "                         repeat=2)):\n",
    "    clfx.fit(X_tra, y_tra)\n",
    "    ax = pp.subplot(gs[grd[0], grd[1]])\n",
    "    #fig = plot_decision_regions(X, y=y, filler_feature_values={2: value, 3: value, 4: value}, filler_feature_ranges={2: width, 3: width, 4: width}, clf=clfx, legend=2)\n",
    "    fig = plot_decision_regions(X_te, y_te, clf=clfx, legend=2)\n",
    "    pp.title(lab)\n",
    "    i = i+1\n",
    "pp.show()"
   ]
  },
  {
   "cell_type": "code",
   "execution_count": null,
   "metadata": {
    "collapsed": false
   },
   "outputs": [],
   "source": [
    "yes = list(np.where(y==1)[0])\n",
    "X_age = X[yes]\n",
    "\n",
    "#X_age[1].hist(figsize=[11,11])\n",
    "\n",
    "#x = mu + sigma*np.random.randn(10000)\n",
    "\n",
    "# the histogram of the data\n",
    "n, bins, patches = pp.hist(X_age[1], 50, normed=1, facecolor='green', alpha=0.75)\n",
    "\n",
    "# add a 'best fit' line\n",
    "#y = mlab.normpdf( bins, mu, sigma)\n",
    "#l = plt.plot(bins, y, 'r--', linewidth=1)\n",
    "\n",
    "plt.xlabel('Smarts')\n",
    "plt.ylabel('Probability')\n",
    "plt.title(r'$\\mathrm{Histogram\\ of\\ IQ:}\\ \\mu=100,\\ \\sigma=15$')\n",
    "plt.axis([40, 160, 0, 0.03])\n",
    "plt.grid(True)\n",
    "\n",
    "plt.show()"
   ]
  },
  {
   "cell_type": "markdown",
   "metadata": {
    "deletable": true,
    "editable": true
   },
   "source": [
    "onehotencoding\n",
    "(try linear scale and onehotencoding)\n",
    "\n",
    "recall/precision\n",
    "\n",
    "do not normalize certain factors(onehotenconding)\n",
    "\n",
    "use randomforest feature selection\n",
    "\n",
    "http://scikit-learn.org/0.15/auto_examples/plot_learning_curve.html?fbclid=IwAR261Y0fy0HdgORvwQwIpSxPcd-_9uYjxG-vQ7tdWSPXpEhqIKvexer7k_I"
   ]
  }
 ],
 "metadata": {
  "kernelspec": {
   "display_name": "Python 2",
   "language": "python",
   "name": "python2"
  },
  "language_info": {
   "codemirror_mode": {
    "name": "ipython",
    "version": 2
   },
   "file_extension": ".py",
   "mimetype": "text/x-python",
   "name": "python",
   "nbconvert_exporter": "python",
   "pygments_lexer": "ipython2",
   "version": "2.7.13"
  }
 },
 "nbformat": 4,
 "nbformat_minor": 2
}
