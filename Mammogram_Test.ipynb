{
 "cells": [
  {
   "cell_type": "markdown",
   "metadata": {
    "collapsed": false,
    "deletable": true,
    "editable": true
   },
   "source": [
    "\n",
    "Here is a public dataset of \"mammographic masses\" coming from https://archive.ics.uci.edu/ml/datasets/Mammographic+Mass\n",
    "\n",
    "\n",
    "# Information about the Dataset:\n",
    "\n",
    "Mammography is the most effective method for breast cancer screening \n",
    "available today. However, the low positive predictive value of breast \n",
    "biopsy resulting from mammogram interpretation leads to approximately \n",
    "70% unnecessary biopsies with benign outcomes. To reduce the high \n",
    "number of unnecessary breast biopsies, several computer-aided diagnosis \n",
    "(CAD) systems have been proposed in the last years.These systems \n",
    "help physicians in their decision to perform a breast biopsy on a suspicious \n",
    "lesion seen in a mammogram or to perform a short term follow-up \n",
    "examination instead. \n",
    "This data set can be used to predict the severity (benign or malignant) \n",
    "of a mammographic mass lesion from BI-RADS attributes and the patient's age. \n",
    "It contains a BI-RADS assessment, the patient's age and three BI-RADS attributes \n",
    "together with the ground truth (the severity field) for 516 benign and \n",
    "445 malignant masses that have been identified on full field digital mammograms \n",
    "collected at the Institute of Radiology of the \n",
    "University Erlangen-Nuremberg between 2003 and 2006. \n",
    "Each instance has an associated BI-RADS assessment ranging from 1 (definitely benign) \n",
    "to 5 (highly suggestive of malignancy) assigned in a double-review process by \n",
    "physicians. Assuming that all cases with BI-RADS assessments greater or equal \n",
    "a given value (varying from 1 to 5), are malignant and the other cases benign, \n",
    "sensitivities and associated specificities can be calculated. These can be an \n",
    "indication of how well a CAD system performs compared to the radiologists. \n",
    "\n",
    "# Dataset Metrics\n",
    "\n",
    "Class Distribution: benign: 516; malignant: 445 \n",
    "\n",
    "There are 961 samples of masses detected in mammograms. Each sample has 6 attributes: BI-RADS assessment, Age, Shape, Margin, Density, and Seversity\n",
    "\n",
    "BI-RADS Assessment- 1 to 5 (ordinal) (non-predictive)\n",
    "\n",
    "Age- Age in years (integer)\n",
    "\n",
    "Shape(shape of mass)- 1(round), 2(oval), 3(lobular), 4(irregular) (nominal)\n",
    "\n",
    "Margin(mass margin)- 1(circumscribed), 2(microlobulated), 3(obscured), 4(ill-defined), 5(spiculated) (nominal)\n",
    "\n",
    "Density(mass density)- 1(high), 2(iso), 3(low), 4(fat-containing) (ordinal)\n",
    "\n",
    "Severity- 0(benign), 1(malignant) (binominal)\n",
    "\n",
    "More information from the dataset can be read from \"mammographic_masses.names.txt\""
   ]
  },
  {
   "cell_type": "markdown",
   "metadata": {
    "deletable": true,
    "editable": true
   },
   "source": [
    "Initially we must import required libraries and read/clean in the data for scientific processing."
   ]
  },
  {
   "cell_type": "code",
   "execution_count": 180,
   "metadata": {
    "collapsed": true,
    "deletable": true,
    "editable": true
   },
   "outputs": [],
   "source": [
    "import numpy as np\n",
    "import pandas as pd\n",
    "\n",
    "from sklearn import preprocessing\n",
    "from sklearn import svm\n",
    "from sklearn.model_selection import cross_val_score\n",
    "from sklearn import neighbors\n",
    "import matplotlib.pyplot as pp\n",
    "import warnings\n",
    "warnings.filterwarnings('ignore')\n",
    "\n",
    "cols = [\"BI-RADS\", \"Age\", \"Shape\", \"Margin\", \"Density\", \"Severity\"]\n",
    "\n",
    "mmg = pd.read_csv(\"mammographic_masses.data.txt\", na_values=[\"?\"], names = cols)\n",
    "\n",
    "data = np.array(mmg.to_records())"
   ]
  },
  {
   "cell_type": "markdown",
   "metadata": {
    "deletable": true,
    "editable": true
   },
   "source": [
    "We establish the names of each feature and store the data from a csv."
   ]
  },
  {
   "cell_type": "markdown",
   "metadata": {
    "deletable": true,
    "editable": true
   },
   "source": [
    "We will now see the description of the dataset and drop any rows with '?'. Although it is not always the best practice to drop rows with missing or confusing values, we will do it for the sake of the classifiers and also because we do not have too much insight on the data."
   ]
  },
  {
   "cell_type": "code",
   "execution_count": 181,
   "metadata": {
    "collapsed": false,
    "deletable": true,
    "editable": true
   },
   "outputs": [
    {
     "data": {
      "text/html": [
       "<div>\n",
       "<style>\n",
       "    .dataframe thead tr:only-child th {\n",
       "        text-align: right;\n",
       "    }\n",
       "\n",
       "    .dataframe thead th {\n",
       "        text-align: left;\n",
       "    }\n",
       "\n",
       "    .dataframe tbody tr th {\n",
       "        vertical-align: top;\n",
       "    }\n",
       "</style>\n",
       "<table border=\"1\" class=\"dataframe\">\n",
       "  <thead>\n",
       "    <tr style=\"text-align: right;\">\n",
       "      <th></th>\n",
       "      <th>BI-RADS</th>\n",
       "      <th>Age</th>\n",
       "      <th>Shape</th>\n",
       "      <th>Margin</th>\n",
       "      <th>Density</th>\n",
       "      <th>Severity</th>\n",
       "    </tr>\n",
       "  </thead>\n",
       "  <tbody>\n",
       "    <tr>\n",
       "      <th>count</th>\n",
       "      <td>830.000000</td>\n",
       "      <td>830.000000</td>\n",
       "      <td>830.000000</td>\n",
       "      <td>830.000000</td>\n",
       "      <td>830.000000</td>\n",
       "      <td>830.000000</td>\n",
       "    </tr>\n",
       "    <tr>\n",
       "      <th>mean</th>\n",
       "      <td>4.393976</td>\n",
       "      <td>55.781928</td>\n",
       "      <td>2.781928</td>\n",
       "      <td>2.813253</td>\n",
       "      <td>2.915663</td>\n",
       "      <td>0.485542</td>\n",
       "    </tr>\n",
       "    <tr>\n",
       "      <th>std</th>\n",
       "      <td>1.888371</td>\n",
       "      <td>14.671782</td>\n",
       "      <td>1.242361</td>\n",
       "      <td>1.567175</td>\n",
       "      <td>0.350936</td>\n",
       "      <td>0.500092</td>\n",
       "    </tr>\n",
       "    <tr>\n",
       "      <th>min</th>\n",
       "      <td>0.000000</td>\n",
       "      <td>18.000000</td>\n",
       "      <td>1.000000</td>\n",
       "      <td>1.000000</td>\n",
       "      <td>1.000000</td>\n",
       "      <td>0.000000</td>\n",
       "    </tr>\n",
       "    <tr>\n",
       "      <th>25%</th>\n",
       "      <td>4.000000</td>\n",
       "      <td>46.000000</td>\n",
       "      <td>2.000000</td>\n",
       "      <td>1.000000</td>\n",
       "      <td>3.000000</td>\n",
       "      <td>0.000000</td>\n",
       "    </tr>\n",
       "    <tr>\n",
       "      <th>50%</th>\n",
       "      <td>4.000000</td>\n",
       "      <td>57.000000</td>\n",
       "      <td>3.000000</td>\n",
       "      <td>3.000000</td>\n",
       "      <td>3.000000</td>\n",
       "      <td>0.000000</td>\n",
       "    </tr>\n",
       "    <tr>\n",
       "      <th>75%</th>\n",
       "      <td>5.000000</td>\n",
       "      <td>66.000000</td>\n",
       "      <td>4.000000</td>\n",
       "      <td>4.000000</td>\n",
       "      <td>3.000000</td>\n",
       "      <td>1.000000</td>\n",
       "    </tr>\n",
       "    <tr>\n",
       "      <th>max</th>\n",
       "      <td>55.000000</td>\n",
       "      <td>96.000000</td>\n",
       "      <td>4.000000</td>\n",
       "      <td>5.000000</td>\n",
       "      <td>4.000000</td>\n",
       "      <td>1.000000</td>\n",
       "    </tr>\n",
       "  </tbody>\n",
       "</table>\n",
       "</div>"
      ],
      "text/plain": [
       "          BI-RADS         Age       Shape      Margin     Density    Severity\n",
       "count  830.000000  830.000000  830.000000  830.000000  830.000000  830.000000\n",
       "mean     4.393976   55.781928    2.781928    2.813253    2.915663    0.485542\n",
       "std      1.888371   14.671782    1.242361    1.567175    0.350936    0.500092\n",
       "min      0.000000   18.000000    1.000000    1.000000    1.000000    0.000000\n",
       "25%      4.000000   46.000000    2.000000    1.000000    3.000000    0.000000\n",
       "50%      4.000000   57.000000    3.000000    3.000000    3.000000    0.000000\n",
       "75%      5.000000   66.000000    4.000000    4.000000    3.000000    1.000000\n",
       "max     55.000000   96.000000    4.000000    5.000000    4.000000    1.000000"
      ]
     },
     "execution_count": 181,
     "metadata": {},
     "output_type": "execute_result"
    }
   ],
   "source": [
    "\n",
    "\n",
    "mmg.dropna(inplace=True)\n",
    "mmg.describe()\n"
   ]
  },
  {
   "cell_type": "markdown",
   "metadata": {
    "deletable": true,
    "editable": true
   },
   "source": [
    "According to the description of our dataset, when looking at the percentiles of age, the majority of samples are between 45-70 years. A standard deviation of 14.67 proves that each of 830 samples the age is spread through a wide range. We can focus less on the description of other features because they are ordinal or nominal; however it is important to notice that density is 3.0 (low) in all percentiles showing possible signifcance? "
   ]
  },
  {
   "cell_type": "markdown",
   "metadata": {
    "deletable": true,
    "editable": true
   },
   "source": [
    "Predicting severity if the mammographic mass is benign or malignant is the goal of our binary classification. Additionally we must load all other features into a data structure that can be easily be subject to scientific computations(numpy array)."
   ]
  },
  {
   "cell_type": "code",
   "execution_count": 182,
   "metadata": {
    "collapsed": false,
    "deletable": true,
    "editable": true
   },
   "outputs": [],
   "source": [
    "\n",
    "\n",
    "y = mmg[\"Severity\"].values\n",
    "X = mmg[[\"BI-RADS\", \"Age\", \"Shape\", \"Margin\", \"Density\"]].values\n",
    "\n",
    "#X = preprocessing.StandardScaler().fit_transform(X)"
   ]
  },
  {
   "cell_type": "markdown",
   "metadata": {
    "deletable": true,
    "editable": true
   },
   "source": [
    "The first binary classification technique will be using a linear support vector machine with hyperparamater C tuned to 1.0. We print the error of the SVM and precision/recall"
   ]
  },
  {
   "cell_type": "code",
   "execution_count": 183,
   "metadata": {
    "collapsed": false,
    "deletable": true,
    "editable": true
   },
   "outputs": [
    {
     "name": "stdout",
     "output_type": "stream",
     "text": [
      "accurate #: 687, accuracy percentage: 0.827711\n",
      "             precision    recall  f1-score   support\n",
      "\n",
      "          0       0.78      0.92      0.85       427\n",
      "          1       0.90      0.73      0.80       403\n",
      "\n",
      "avg / total       0.84      0.83      0.83       830\n",
      "\n"
     ]
    }
   ],
   "source": [
    "from sklearn.metrics import classification_report\n",
    "\n",
    "n, d = X.shape\n",
    "y_predsvm = np.zeros((n, 1))\n",
    "y_temp = y.reshape(-1, 1)\n",
    "for i in range(n):\n",
    "    all_b_i = range(0, i) + range(i+1, n)\n",
    "    X_t = X[all_b_i]\n",
    "    y_t = y_temp[all_b_i]\n",
    "    svc = svm.SVC(kernel='linear', C = 1.0)\n",
    "    #y_t = y_t.reshape(-1, 1)\n",
    "    #svc.fit(X_t, y_t)\n",
    "    svc.fit(X, y)\n",
    "    y_predsvm[i] = svc.predict(X[i])\n",
    "#errsvm = np.mean(y!=y_predsvm)\n",
    "cnt = 0\n",
    "for i in range(n):\n",
    "    #print (\"predict: %d, actually: %d \"% (y_predsvm[i], y[i]))\n",
    "    if y_predsvm[i] == y[i]:\n",
    "        cnt += 1\n",
    "accuracy = float(cnt)/ n\n",
    "print (\"accurate #: %d, accuracy percentage: %f\" % (cnt, accuracy))\n",
    "report = classification_report(y, y_predsvm)\n",
    "print(report)\n",
    "#print errsvm\n",
    "    "
   ]
  },
  {
   "cell_type": "markdown",
   "metadata": {
    "deletable": true,
    "editable": true
   },
   "source": [
    "The accuracy of the SVM is about 83% with precision = 84% and recall = 83% are good scores but let us look at other classifiers. This means that given a sample size of n, 17% of n will be classified incorrectly."
   ]
  },
  {
   "cell_type": "markdown",
   "metadata": {
    "deletable": true,
    "editable": true
   },
   "source": [
    "Another method for this binary classification is to use K-Nearest-Neighbors. We first start with K=8. The error for KNN is printed as well as precision/recall"
   ]
  },
  {
   "cell_type": "code",
   "execution_count": 184,
   "metadata": {
    "collapsed": false,
    "deletable": true,
    "editable": true
   },
   "outputs": [
    {
     "name": "stdout",
     "output_type": "stream",
     "text": [
      "accurate #: 667, accuracy percentage: 0.803614\n",
      "             precision    recall  f1-score   support\n",
      "\n",
      "          0       0.79      0.84      0.81       427\n",
      "          1       0.82      0.77      0.79       403\n",
      "\n",
      "avg / total       0.80      0.80      0.80       830\n",
      "\n"
     ]
    }
   ],
   "source": [
    "from sklearn.model_selection import cross_val_score\n",
    "y_predknn = np.zeros((n, 1))\n",
    "for i in range(n):\n",
    "    all_b_i = range(0, i) + range(i+1, n)\n",
    "    X_t = X[all_b_i]\n",
    "    y_t = y[all_b_i]\n",
    "    c = neighbors.KNeighborsClassifier(n_neighbors=8)\n",
    "    c.fit(X_t, y_t)\n",
    "    y_predknn[i] = c.predict(X[i])  \n",
    "#knnerr = np.mean(y!=y_predknn)\n",
    "cv2 = cross_val_score(c, X, y, cv=10)\n",
    "cnt = 0\n",
    "for i in range(n):\n",
    "    #print (\"predict: %d, actually: %d \"% (y_predsvm[i], y[i]))\n",
    "    if y_predknn[i] == y[i]:\n",
    "        cnt += 1\n",
    "accuracy = float(cnt)/ n\n",
    "print (\"accurate #: %d, accuracy percentage: %f\" % (cnt, accuracy))\n",
    "report = classification_report(y, y_predknn)\n",
    "print(report)\n",
    "#print cv2.mean()"
   ]
  },
  {
   "cell_type": "markdown",
   "metadata": {
    "deletable": true,
    "editable": true
   },
   "source": [
    "An 80% accuracy with precision/recall = 80% but is not nearly as good as the metrics displayed by SVM. Let us look at one last classification technique. An error of 20% is too high for what we want."
   ]
  },
  {
   "cell_type": "markdown",
   "metadata": {
    "deletable": true,
    "editable": true
   },
   "source": [
    "The last binary classification technique I will compare is random forests. A module from sklearn.tree allows the user to print out the decisions of the entire forest! Below is the error printed for random forests."
   ]
  },
  {
   "cell_type": "code",
   "execution_count": 185,
   "metadata": {
    "collapsed": false,
    "deletable": true,
    "editable": true
   },
   "outputs": [
    {
     "name": "stdout",
     "output_type": "stream",
     "text": [
      "accurate #: 773, accuracy percentage: 0.931325\n",
      "             precision    recall  f1-score   support\n",
      "\n",
      "          0       0.93      0.93      0.93       427\n",
      "          1       0.93      0.93      0.93       403\n",
      "\n",
      "avg / total       0.93      0.93      0.93       830\n",
      "\n"
     ]
    }
   ],
   "source": [
    "from sklearn.ensemble import RandomForestClassifier as rfc\n",
    "from sklearn.tree import export_graphviz\n",
    "\n",
    "import pydot\n",
    "tree = 0\n",
    "zz = 0\n",
    "feat = 0\n",
    "y_predrf = np.zeros((n, 1))\n",
    "for i in range(n):\n",
    "    all_b_i = range(0,i) + range(i+1, n)\n",
    "    y_t2 = y[all_b_i]\n",
    "    X_t2 = X[all_b_i]\n",
    "    rf = 0\n",
    "    if (i == 4):\n",
    "        rf = rfc(n_estimators=20, max_depth=3, random_state=355)\n",
    "    else:\n",
    "        rf = rfc(n_estimators=20, random_state=355)\n",
    "        if (i == 3):\n",
    "            zz = rf\n",
    "    rf.fit(X_t, y_t)\n",
    "    \n",
    "    y_predrf[i] = rf.predict(X[i])\n",
    "    if (i == 2):\n",
    "        tree = rf.estimators_[5]\n",
    "        export_graphviz(tree, out_file = 'small_tree.dot', feature_names = cols, rounded = True)\n",
    "        feat = rf.feature_importances_\n",
    "        #rint \"Features sorted by their score:\"\n",
    "        #for feature in zip(cols, rf.feature_importances_):\n",
    "            #print(feature)\n",
    "    if (i == 4):\n",
    "        tree = rf.estimators_[5]\n",
    "        export_graphviz(tree, out_file = 'lit_tree.dot', feature_names = cols, rounded = True)\n",
    "cnt = 0\n",
    "for i in range(n):\n",
    "    #print (\"predict: %d, actually: %d \"% (y_predsvm[i], y[i]))\n",
    "    if y_predrf[i] == y[i]:\n",
    "        cnt += 1\n",
    "accuracy = float(cnt)/ n\n",
    "print (\"accurate #: %d, accuracy percentage: %f\" % (cnt, accuracy))\n",
    "report = classification_report(y, y_predrf)\n",
    "print(report)\n",
    "#errrf = np.mean(y!=y_predrf)    \n",
    "#print errrf\n",
    "\n",
    "    "
   ]
  },
  {
   "cell_type": "markdown",
   "metadata": {
    "deletable": true,
    "editable": true
   },
   "source": [
    "Of all the classifiers, the random forest classifier yields the highest accuracy of 93% with precision/recall also = 93%. An error as low as 7% is phenomenal compared to 17% and 20%. Additionally when looking at recall/precision, the amount of false negatives and false positives must be low compared to the amount of correct true positives."
   ]
  },
  {
   "cell_type": "markdown",
   "metadata": {
    "deletable": true,
    "editable": true
   },
   "source": [
    "# Important\n",
    "It is vital to post the precision and recall because when dealing with health related data we want to understand chances of missclassifying certain data. Given the output of the sample we have a certain number of true positives and  we want to compare it with the number of false negatives or false positives to give the user of this classifier other performance metrics in addition to accuracy."
   ]
  },
  {
   "cell_type": "markdown",
   "metadata": {
    "deletable": true,
    "editable": true
   },
   "source": [
    "after writing to a dot file one can execute\n",
    "dot -Tpng small_tree.dot -o small_tree.png \n",
    "to write the random forest decisions to a png file\n",
    "\n"
   ]
  },
  {
   "cell_type": "markdown",
   "metadata": {
    "deletable": true,
    "editable": true
   },
   "source": [
    "In order to make some sense of a large random forest, we set the max_depth attribute of the random forest classifier equal to 3 in order to only see the first 3 generations after the root."
   ]
  },
  {
   "cell_type": "markdown",
   "metadata": {
    "deletable": true,
    "editable": true
   },
   "source": [
    "![title](lit_tree.png)"
   ]
  },
  {
   "cell_type": "markdown",
   "metadata": {
    "deletable": true,
    "editable": true
   },
   "source": [
    "According to the root of the tree, the Margin feature is first compared, then either Shape or BI-RADS is compared depending if the root yields either true or false. This raises the question of why is Margin the first comparsion and why does Shape or BI-RADS come next?"
   ]
  },
  {
   "cell_type": "markdown",
   "metadata": {
    "deletable": true,
    "editable": true
   },
   "source": [
    "As well as being a good classifier, the random forest ensemble has the ability to discern which features have the highest impact on the classification. Ultimately this will help decide which features should be closely examined to determine the severity. "
   ]
  },
  {
   "cell_type": "code",
   "execution_count": 186,
   "metadata": {
    "collapsed": false,
    "deletable": true,
    "editable": true
   },
   "outputs": [
    {
     "name": "stdout",
     "output_type": "stream",
     "text": [
      "Features sorted by their score:\n",
      "('BI-RADS', 0.30262467731218601)\n",
      "('Age', 0.30074904150244425)\n",
      "('Shape', 0.17010635218853723)\n",
      "('Margin', 0.19979738849066719)\n",
      "('Density', 0.026722540506165442)\n"
     ]
    }
   ],
   "source": [
    "print \"Features sorted by their score:\"\n",
    "for feature in zip(cols, feat):\n",
    "    print(feature)"
   ]
  },
  {
   "cell_type": "markdown",
   "metadata": {
    "deletable": true,
    "editable": true
   },
   "source": [
    "According to the random forest classifier, BI-RADS has the most influence; however in the URL from the dataset BI-RADS is non-predictive. Age, Margin, and Shape all have a large influence on deciding classification."
   ]
  },
  {
   "cell_type": "markdown",
   "metadata": {
    "deletable": true,
    "editable": true
   },
   "source": [
    "Let's compare the malignant samples to the benign samples. In the first graph we will be comparing the shape and in the second we shall compare margin. Maybe we can visualize how the data can be separated just by plotting the samples. The blue dots are malignant samples while the red dots are benign samples."
   ]
  },
  {
   "cell_type": "code",
   "execution_count": 187,
   "metadata": {
    "collapsed": false,
    "deletable": true,
    "editable": true
   },
   "outputs": [
    {
     "data": {
      "image/png": "[encoded data removed]",
      "text/plain": [
       "<matplotlib.figure.Figure at 0x1029ead50>"
      ]
     },
     "metadata": {},
     "output_type": "display_data"
    },
    {
     "data": {
      "image/png": "[encoded data removed]",
      "text/plain": [
       "<matplotlib.figure.Figure at 0x11d8baa10>"
      ]
     },
     "metadata": {},
     "output_type": "display_data"
    }
   ],
   "source": [
    "p_samp = list(np.where(y==1)[0])\n",
    "n_samp = list(np.where(y==0)[0])\n",
    "pp.figure()\n",
    "pp.plot(X[p_samp,2], 'bo') \n",
    "pp.plot(X[n_samp,2], 'ro')\n",
    "pp.xlabel('Sample Size')\n",
    "pp.ylabel('Shape')\n",
    "pp.figure()\n",
    "pp.plot(X[p_samp,3], 'bo') # g for green, o for circle\n",
    "pp.plot(X[n_samp,3], 'ro')\n",
    "pp.xlabel('Sample Size')\n",
    "pp.ylabel('Margin')\n",
    "pp.show()"
   ]
  },
  {
   "cell_type": "markdown",
   "metadata": {
    "deletable": true,
    "editable": true
   },
   "source": [
    "According to the Shape of mass histogram, when comparing benign and malignant samples, many benign samples have a 1(round) shape (red dots) while one can also see there are many blue dots(malignant) covering 3(lobular) and 4(irregular)."
   ]
  },
  {
   "cell_type": "markdown",
   "metadata": {
    "deletable": true,
    "editable": true
   },
   "source": [
    "When looking at the mass of Margin histogram, one notices many red dots(benign) are 1 (circumscribed) while there are many blue dots(malignant) for 3(obscured), 4(ill-defined), and 5(spiculated)"
   ]
  },
  {
   "cell_type": "markdown",
   "metadata": {
    "deletable": true,
    "editable": true
   },
   "source": [
    "Lastly, to visualize each of our 3 classifiers would help us have a better idea of which algorithm can naturally best fit the data"
   ]
  },
  {
   "cell_type": "code",
   "execution_count": 188,
   "metadata": {
    "collapsed": false,
    "deletable": true,
    "editable": true
   },
   "outputs": [
    {
     "data": {
      "image/png": "[encoded data removed]",
      "text/plain": [
       "<matplotlib.figure.Figure at 0x118b7b610>"
      ]
     },
     "metadata": {},
     "output_type": "display_data"
    }
   ],
   "source": [
    "\n",
    "import matplotlib.gridspec as gridspec\n",
    "import itertools\n",
    "from mlxtend.classifier import EnsembleVoteClassifier\n",
    "\n",
    "from mlxtend.plotting import plot_decision_regions\n",
    "\n",
    "# Initializing Classifiers\n",
    "clF1 = rfc(n_estimators=20, random_state=355)\n",
    "value = 1.5\n",
    "width = 0.75\n",
    "C = 0.2\n",
    "clF2 = svm.SVC(kernel='linear', C=C, probability=True)\n",
    "clF3 = neighbors.KNeighborsClassifier(n_neighbors=9)\n",
    "eclf = EnsembleVoteClassifier(clfs=[clF1, clF2, clF3],\n",
    "                              weights=[2, 1, 1], voting='soft')\n",
    "\n",
    "\n",
    "X2 = mmg[[\"BI-RADS\", \"Margin\"]].values\n",
    "X_tra = X2[:600]\n",
    "X_te = X2[600:]\n",
    "y_tra = y[:600]\n",
    "y_te = y[600:]\n",
    "\n",
    "X2 = preprocessing.StandardScaler().fit_transform(X2)\n",
    "\n",
    "gs = gridspec.GridSpec(2, 2)\n",
    "fig = pp.figure(figsize=(10, 8))\n",
    "\n",
    "labels = ['Random Forest',\n",
    "          'Linear Svm',\n",
    "          'KNN']\n",
    "\n",
    "i = 0\n",
    "for clfx, lab, grd in zip([clF1, clF2, clF3],\n",
    "                         labels,\n",
    "                         itertools.product([0, 1],\n",
    "                         repeat=2)):\n",
    "    clfx.fit(X_tra, y_tra)\n",
    "    ax = pp.subplot(gs[grd[0], grd[1]])\n",
    "    #fig = plot_decision_regions(X, y=y, filler_feature_values={2: value, 3: value, 4: value}, filler_feature_ranges={2: width, 3: width, 4: width}, clf=clfx, legend=2)\n",
    "    fig = plot_decision_regions(X_te, y_te, clf=clfx, legend=2)\n",
    "    pp.title(lab)\n",
    "    i = i+1\n",
    "pp.show()"
   ]
  },
  {
   "cell_type": "markdown",
   "metadata": {
    "deletable": true,
    "editable": true
   },
   "source": [
    "Just like our random forest classifier has proved, it does a pretty great job at separating the malignant(triangle) and benign(square) data points. The linear SVM and K-Nearest Neighbors does a good job but not nearly as accurate as the former classifier."
   ]
  },
  {
   "cell_type": "markdown",
   "metadata": {
    "deletable": true,
    "editable": true
   },
   "source": [
    "# After selecting the classifier, determining metrics, and selecting important features, we will now make observations of our data."
   ]
  },
  {
   "cell_type": "markdown",
   "metadata": {
    "deletable": true,
    "editable": true
   },
   "source": [
    "Now let's take a look at all of the malignant cases and see if there is any correlation to age"
   ]
  },
  {
   "cell_type": "code",
   "execution_count": 189,
   "metadata": {
    "collapsed": false,
    "deletable": true,
    "editable": true
   },
   "outputs": [
    {
     "data": {
      "image/png": "[encoded data removed]",
      "text/plain": [
       "<matplotlib.figure.Figure at 0x11d3f5f10>"
      ]
     },
     "metadata": {},
     "output_type": "display_data"
    },
    {
     "name": "stdout",
     "output_type": "stream",
     "text": [
      "Number of samples in range 20 to 29 where severity is malignant: 1\n",
      "Number of samples in range 30 to 39 where severity is malignant: 11\n",
      "Number of samples in range 40 to 49 where severity is malignant: 50\n",
      "Number of samples in range 50 to 59 where severity is malignant: 95\n",
      "Number of samples in range 60 to 69 where severity is malignant: 128\n",
      "Number of samples in range 70 to 79 where severity is malignant: 83\n",
      "Number of samples in range 80 to 89 where severity is malignant: 33\n",
      "Number of samples in range 90 to 99 where severity is malignant: 2\n",
      "median age: 64\n"
     ]
    }
   ],
   "source": [
    "yes = list(np.where(y==1)[0])\n",
    "X_age = X[yes]\n",
    "\n",
    "#X_age[1].hist(figsize=[11,11])\n",
    "\n",
    "#x = mu + sigma*np.random.randn(10000)\n",
    "\n",
    "# the histogram of the data\n",
    "n, bins, patches = pp.hist(X_age[:, 1], 50, facecolor='purple', alpha=0.75)\n",
    "\n",
    "# add a 'best fit' line\n",
    "#y = mlab.normpdf( bins, mu, sigma)\n",
    "#l = plt.plot(bins, y, 'r--', linewidth=1)\n",
    "\n",
    "\n",
    "#print X_age[:, 1]\n",
    "#print np.mean(X_age[1])\n",
    "\n",
    "pp.xlabel('Age')\n",
    "pp.ylabel('Number of People')\n",
    "#pp.title(r'$\\mathrm{Histogram\\ of\\ IQ:}\\ \\mu=100,\\ \\sigma=15$')\n",
    "pp.axis([10, 100, 0, 50])\n",
    "pp.grid(True)\n",
    "\n",
    "pp.show()\n",
    "\n",
    "\n",
    "for i in range(2, 10):\n",
    "    count = 0\n",
    "    for j in X_age[:,1]:\n",
    "        #print j\n",
    "        if (j < ((i+1) * 10) and j >= (i * 10)):\n",
    "            count += 1\n",
    "    print (\"Number of samples in range %d to %d where severity is malignant: %d\" % (i*10, ((i+1)*10)-1, count))\n",
    "    \n",
    "print (\"median age: %d\" % (np.median(X_age[:,1])))"
   ]
  },
  {
   "cell_type": "markdown",
   "metadata": {
    "deletable": true,
    "editable": true
   },
   "source": [
    "According to the histogram, the results display that the majority of samples with breast cancer age between 60 and 69; however many samples who have the disease are aged between 40-79. The median age of samples with breast cancer is 64."
   ]
  },
  {
   "cell_type": "markdown",
   "metadata": {
    "deletable": true,
    "editable": true
   },
   "source": [
    "Age is an important feature for determining severity but we will examine Shape, Margin, and Density."
   ]
  },
  {
   "cell_type": "code",
   "execution_count": 195,
   "metadata": {
    "collapsed": false,
    "deletable": true,
    "editable": true
   },
   "outputs": [
    {
     "data": {
      "image/png": "[encoded data removed]",
      "text/plain": [
       "<matplotlib.figure.Figure at 0x1188d9cd0>"
      ]
     },
     "metadata": {},
     "output_type": "display_data"
    },
    {
     "name": "stdout",
     "output_type": "stream",
     "text": [
      "Number of samples that have shape 1 where severity is malignant: 32\n",
      "Number of samples that have shape 2 where severity is malignant: 31\n",
      "Number of samples that have shape 3 where severity is malignant: 42\n",
      "Number of samples that have shape 4 where severity is malignant: 298\n"
     ]
    },
    {
     "data": {
      "image/png": "[encoded data removed]",
      "text/plain": [
       "<matplotlib.figure.Figure at 0x11ceea6d0>"
      ]
     },
     "metadata": {},
     "output_type": "display_data"
    },
    {
     "name": "stdout",
     "output_type": "stream",
     "text": [
      "Number of samples that have shape 1 where severity is benign: 158\n",
      "Number of samples that have shape 2 where severity is benign: 149\n",
      "Number of samples that have shape 3 where severity is benign: 39\n",
      "Number of samples that have shape 4 where severity is benign: 81\n"
     ]
    }
   ],
   "source": [
    "yes = list(np.where(y==1)[0])\n",
    "#X_age = X[yes]\n",
    "no = list(np.where(y==0)[0])\n",
    "\n",
    "X3 = X[yes]\n",
    "X4 = X[no]\n",
    "\n",
    "#X_age[1].hist(figsize=[11,11])\n",
    "\n",
    "#x = mu + sigma*np.random.randn(10000)\n",
    "\n",
    "# the histogram of the data\n",
    "n, bins, patches = pp.hist(X3[:, 2], 50, facecolor='green', alpha=0.75)\n",
    "\n",
    "# add a 'best fit' line\n",
    "#y = mlab.normpdf( bins, mu, sigma)\n",
    "#l = plt.plot(bins, y, 'r--', linewidth=1)\n",
    "\n",
    "\n",
    "#print X_age[:, 1]\n",
    "#print np.mean(X_age[1])\n",
    "\n",
    "pp.xlabel('Shape')\n",
    "pp.ylabel('Number of People')\n",
    "pp.title('Shape of mammogram with malignant')\n",
    "pp.axis([1, 4, 0, 400])\n",
    "pp.grid(True)\n",
    "\n",
    "pp.show()\n",
    "\n",
    "\n",
    "for i in range(1, 5):\n",
    "    count = 0\n",
    "    for j in X3[:,2]:\n",
    "        #print j\n",
    "        if (j == i):\n",
    "            count += 1\n",
    "    print (\"Number of samples that have shape %d where severity is malignant: %d\" % (i, count))\n",
    "           \n",
    "n, bins, patches = pp.hist(X4[:, 2], 50, facecolor='magenta', alpha=0.75)\n",
    "\n",
    "# add a 'best fit' line\n",
    "#y = mlab.normpdf( bins, mu, sigma)\n",
    "#l = plt.plot(bins, y, 'r--', linewidth=1)\n",
    "\n",
    "\n",
    "#print X_age[:, 1]\n",
    "#print np.mean(X_age[1])\n",
    "\n",
    "pp.xlabel('Shape')\n",
    "pp.ylabel('Number of People')\n",
    "pp.title('Shape of mammogram with benign')\n",
    "pp.axis([1, 4, 0, 200])\n",
    "pp.grid(True)\n",
    "\n",
    "pp.show()\n",
    "\n",
    "\n",
    "for i in range(1, 5):\n",
    "    count = 0\n",
    "    for j in X4[:,2]:\n",
    "        #print j\n",
    "        if (j == i):\n",
    "            count += 1\n",
    "    print (\"Number of samples that have shape %d where severity is benign: %d\" % (i, count))"
   ]
  },
  {
   "cell_type": "markdown",
   "metadata": {
    "deletable": true,
    "editable": true
   },
   "source": [
    "If we recall from earlier each shape number correlates to a category: shape of mass is 1(round), 2(oval), 3(lobular), 4(irregular). When looking at the shape of malignant cases, most of the samples have an irregular shape while a majority of the samples where the severity is benign have a round or oval shape."
   ]
  },
  {
   "cell_type": "markdown",
   "metadata": {},
   "source": [
    "Next we compare positive and negative samples highlighting the Margin mass."
   ]
  },
  {
   "cell_type": "code",
   "execution_count": 196,
   "metadata": {
    "collapsed": false,
    "deletable": true,
    "editable": true
   },
   "outputs": [
    {
     "data": {
      "image/png": "[encoded data removed]",
      "text/plain": [
       "<matplotlib.figure.Figure at 0x10460e210>"
      ]
     },
     "metadata": {},
     "output_type": "display_data"
    },
    {
     "name": "stdout",
     "output_type": "stream",
     "text": [
      "Number of samples that have margin 1 where severity is malignant: 38\n",
      "Number of samples that have margin 2 where severity is malignant: 15\n",
      "Number of samples that have margin 3 where severity is malignant: 67\n",
      "Number of samples that have margin 4 where severity is malignant: 177\n",
      "Number of samples that have margin 5 where severity is malignant: 106\n"
     ]
    },
    {
     "data": {
      "image/png": "[encoded data removed]",
      "text/plain": [
       "<matplotlib.figure.Figure at 0x1133ae350>"
      ]
     },
     "metadata": {},
     "output_type": "display_data"
    },
    {
     "name": "stdout",
     "output_type": "stream",
     "text": [
      "Number of samples that have margin 1 where severity is benign: 282\n",
      "Number of samples that have margin 2 where severity is benign: 8\n",
      "Number of samples that have margin 3 where severity is benign: 39\n",
      "Number of samples that have margin 4 where severity is benign: 77\n",
      "Number of samples that have margin 5 where severity is benign: 21\n"
     ]
    }
   ],
   "source": [
    "yes = list(np.where(y==1)[0])\n",
    "#X_age = X[yes]\n",
    "no = list(np.where(y==0)[0])\n",
    "\n",
    "X3 = X[yes]\n",
    "X4 = X[no]\n",
    "\n",
    "#X_age[1].hist(figsize=[11,11])\n",
    "\n",
    "#x = mu + sigma*np.random.randn(10000)\n",
    "\n",
    "# the histogram of the data\n",
    "n, bins, patches = pp.hist(X3[:, 3], 50, facecolor='pink', alpha=0.75)\n",
    "\n",
    "# add a 'best fit' line\n",
    "#y = mlab.normpdf( bins, mu, sigma)\n",
    "#l = plt.plot(bins, y, 'r--', linewidth=1)\n",
    "\n",
    "\n",
    "#print X_age[:, 1]\n",
    "#print np.mean(X_age[1])\n",
    "\n",
    "pp.xlabel('Margin')\n",
    "pp.ylabel('Number of People')\n",
    "pp.title('Margin of mammogram with malignant')\n",
    "pp.axis([1, 5, 0, 300])\n",
    "pp.grid(True)\n",
    "\n",
    "pp.show()\n",
    "\n",
    "\n",
    "for i in range(1, 6):\n",
    "    count = 0\n",
    "    for j in X3[:,3]:\n",
    "        #print j\n",
    "        if (j == i):\n",
    "            count += 1\n",
    "    print (\"Number of samples that have margin %d where severity is malignant: %d\" % (i, count))\n",
    "           \n",
    "n, bins, patches = pp.hist(X4[:, 3], 50, facecolor='orange', alpha=0.75)\n",
    "\n",
    "# add a 'best fit' line\n",
    "#y = mlab.normpdf( bins, mu, sigma)\n",
    "#l = plt.plot(bins, y, 'r--', linewidth=1)\n",
    "\n",
    "\n",
    "#print X_age[:, 1]\n",
    "#print np.mean(X_age[1])\n",
    "\n",
    "pp.xlabel('Margin')\n",
    "pp.ylabel('Number of People')\n",
    "pp.title('Margin of mammogram with benign')\n",
    "pp.axis([1, 5, 0, 300])\n",
    "pp.grid(True)\n",
    "\n",
    "pp.show()\n",
    "\n",
    "\n",
    "for i in range(1, 6):\n",
    "    count = 0\n",
    "    for j in X4[:,3]:\n",
    "        #print j\n",
    "        if (j == i):\n",
    "            count += 1\n",
    "    print (\"Number of samples that have margin %d where severity is benign: %d\" % (i, count))"
   ]
  },
  {
   "cell_type": "markdown",
   "metadata": {
    "deletable": true,
    "editable": true
   },
   "source": [
    "Each number corresponds to the mass of the Margin: 1(circumscribed), 2(microlobulated), 3(obscured), 4(ill-defined), 5(spiculated). If a sample's severity is malignant it is common for their Margin mass to be ill-defined or spiculated where on the other side of the spectrum portrays that of the samples that are benign the common mass Margin is circumscribed."
   ]
  },
  {
   "cell_type": "code",
   "execution_count": 197,
   "metadata": {
    "collapsed": false,
    "deletable": true,
    "editable": true
   },
   "outputs": [
    {
     "data": {
      "image/png": "[encoded data removed]",
      "text/plain": [
       "<matplotlib.figure.Figure at 0x118c16c90>"
      ]
     },
     "metadata": {},
     "output_type": "display_data"
    },
    {
     "name": "stdout",
     "output_type": "stream",
     "text": [
      "Number of samples that have density 1 where severity is malignant: 5\n",
      "Number of samples that have density 2 where severity is malignant: 18\n",
      "Number of samples that have density 3 where severity is malignant: 376\n",
      "Number of samples that have density 4 where severity is malignant: 4\n"
     ]
    },
    {
     "data": {
      "image/png": "[encoded data removed]",
      "text/plain": [
       "<matplotlib.figure.Figure at 0x11db2e490>"
      ]
     },
     "metadata": {},
     "output_type": "display_data"
    },
    {
     "name": "stdout",
     "output_type": "stream",
     "text": [
      "Number of samples that have density 1 where severity is benign: 6\n",
      "Number of samples that have density 2 where severity is benign: 38\n",
      "Number of samples that have density 3 where severity is benign: 379\n",
      "Number of samples that have density 4 where severity is benign: 4\n"
     ]
    }
   ],
   "source": [
    "X5 = X[yes]\n",
    "X6 = X[no]\n",
    "\n",
    "#X_age[1].hist(figsize=[11,11])\n",
    "\n",
    "#x = mu + sigma*np.random.randn(10000)\n",
    "\n",
    "# the histogram of the data\n",
    "n, bins, patches = pp.hist(X5[:, 4], 50, facecolor='brown', alpha=0.75)\n",
    "\n",
    "# add a 'best fit' line\n",
    "#y = mlab.normpdf( bins, mu, sigma)\n",
    "#l = plt.plot(bins, y, 'r--', linewidth=1)\n",
    "\n",
    "\n",
    "#print X_age[:, 1]\n",
    "#print np.mean(X_age[1])\n",
    "\n",
    "pp.xlabel('Density')\n",
    "pp.ylabel('Number of People')\n",
    "pp.title('Density of mammogram with malignant')\n",
    "pp.axis([1, 4, 0, 400])\n",
    "pp.grid(True)\n",
    "\n",
    "pp.show()\n",
    "\n",
    "\n",
    "for i in range(1, 5):\n",
    "    count = 0\n",
    "    for j in X5[:,4]:\n",
    "        #print j\n",
    "        if (j == i):\n",
    "            count += 1\n",
    "    print (\"Number of samples that have density %d where severity is malignant: %d\" % (i, count))\n",
    "           \n",
    "n, bins, patches = pp.hist(X6[:, 4], 50, facecolor='black', alpha=0.75)\n",
    "\n",
    "# add a 'best fit' line\n",
    "#y = mlab.normpdf( bins, mu, sigma)\n",
    "#l = plt.plot(bins, y, 'r--', linewidth=1)\n",
    "\n",
    "\n",
    "#print X_age[:, 1]\n",
    "#print np.mean(X_age[1])\n",
    "\n",
    "pp.xlabel('Density')\n",
    "pp.ylabel('Number of People')\n",
    "pp.title('Density of mammogram with benign')\n",
    "pp.axis([1, 4, 0, 400])\n",
    "pp.grid(True)\n",
    "\n",
    "pp.show()\n",
    "\n",
    "\n",
    "for i in range(1, 5):\n",
    "    count = 0\n",
    "    for j in X6[:,4]:\n",
    "        #print j\n",
    "        if (j == i):\n",
    "            count += 1\n",
    "    print (\"Number of samples that have density %d where severity is benign: %d\" % (i, count))"
   ]
  },
  {
   "cell_type": "markdown",
   "metadata": {
    "deletable": true,
    "editable": true
   },
   "source": [
    "As expected from feature selection of the random forest classifier, both malignant and benign cases have a density of 3. Recall that the mass of density has 4 categories: 1(high), 2(iso), 3(low), 4(fat-containing). If both severities do not display significant discerning results then we realize this feature helps little with classification."
   ]
  },
  {
   "cell_type": "markdown",
   "metadata": {
    "deletable": true,
    "editable": true
   },
   "source": [
    "After looking at histograms of what is common in malignant and benign samples, we pair and compare the most common traits of malignant samples."
   ]
  },
  {
   "cell_type": "code",
   "execution_count": 198,
   "metadata": {
    "collapsed": false,
    "deletable": true,
    "editable": true
   },
   "outputs": [
    {
     "name": "stdout",
     "output_type": "stream",
     "text": [
      "X_new1 count: 182\n",
      "# of malignant where shape = irregular and margin = illdefined: 141\n",
      "percentage of people malignant where shape = irregular and margin = illdefined: 0.774725\n",
      "X_new2 count: 110\n",
      "# of malignant where shape = irregular and margin = spiculated: 91\n",
      "percentage of people malignant where shape = irregular and margin = spiculated: 0.827273\n"
     ]
    }
   ],
   "source": [
    "diff = list(np.where((X[:, 2]==4) & (X[:, 3]==4)))\n",
    "\n",
    "X_new = X[diff]\n",
    "y_new = y[diff]\n",
    "#X_new = X[(X[:, 2]==4) & (X[:, 3]==4)]\n",
    "#y_new = y[(X[:, 2]==4) & (X[:, 3]==4)]\n",
    "#print X_new\n",
    "#print y_new\n",
    "\n",
    "count1 = 0\n",
    "for e in y_new:\n",
    "    if e == 1:\n",
    "        count1 += 1\n",
    "print (\"X_new1 count: %d\"% (X_new.shape[0]))\n",
    "print (\"# of malignant where shape = irregular and margin = illdefined: %d\" % (count1))\n",
    "res1 = float(count1)/X_new.shape[0]\n",
    "print (\"percentage of people malignant where shape = irregular and margin = illdefined: %f\" %(float(res1)))\n",
    "diff2 = list(np.where((X[:, 2]==4) & (X[:, 3]==5)))\n",
    "X_new2 = X[diff2]\n",
    "y_new2 = y[diff2]\n",
    "count2 = 0\n",
    "for e in y_new2:\n",
    "    if e == 1:\n",
    "        count2 += 1\n",
    "print (\"X_new2 count: %d\"% (X_new2.shape[0]))\n",
    "print (\"# of malignant where shape = irregular and margin = spiculated: %d\" % (count2))\n",
    "res2 = float(count2)/X_new2.shape[0]\n",
    "print (\"percentage of people malignant where shape = irregular and margin = spiculated: %f\" %(res2))"
   ]
  },
  {
   "cell_type": "markdown",
   "metadata": {
    "deletable": true,
    "editable": true
   },
   "source": [
    "The first evaluation here shows that about 77.5% of samples that have the two features where the Shape of the mass is irregular and the Margin mass is illdefined have breast cancer. The second evaluation signifies that about 83% of samples that have Shape of the mass being irregular and a Margin mass that is spiculated have breast cancer."
   ]
  },
  {
   "cell_type": "markdown",
   "metadata": {},
   "source": [
    "This next evaluation specifies the Age, Shape, and Margin."
   ]
  },
  {
   "cell_type": "code",
   "execution_count": 199,
   "metadata": {
    "collapsed": false,
    "deletable": true,
    "editable": true
   },
   "outputs": [
    {
     "name": "stdout",
     "output_type": "stream",
     "text": [
      "X_new3 count: 55\n",
      "# of malignant where shape=irregular and margin=illdefined and age is between 60 and 69: 44\n",
      "percentage of people malignant where shape=irregular and margin=illdefined and age is between 60 and 69: 0.800000\n",
      "X_new4 count: 34\n",
      "# of malignant where shape=irregular and margin=spiculated and age is between 60 and 69: 28\n",
      "percentage of people malignant where shape=irregular and margin=spiculated and age is between 60 and 69: 0.823529\n"
     ]
    }
   ],
   "source": [
    "diff3 = list(np.where((X[:, 2]==4) & (X[:, 3]==4) & (X[:, 1]<70) & (X[:, 1]>=60)))\n",
    "X_new3 = X[diff3]\n",
    "y_new3 = y[diff3]\n",
    "count3 = 0\n",
    "\n",
    "for e in y_new3:\n",
    "    if e == 1:\n",
    "        count3 += 1\n",
    "print (\"X_new3 count: %d\"% (X_new3.shape[0]))\n",
    "print (\"# of malignant where shape=irregular and margin=illdefined and age is between 60 and 69: %d\" % (count3))   \n",
    "res3 = float(count3)/X_new3.shape[0]\n",
    "print (\"percentage of people malignant where shape=irregular and margin=illdefined and age is between 60 and 69: %f\" %(res3))\n",
    "\n",
    "diff4 = list(np.where((X[:, 2]==4) & (X[:, 3]==5) & (X[:, 1]<70) & (X[:, 1]>=60)))\n",
    "X_new4 = X[diff4]\n",
    "y_new4 = y[diff4]\n",
    "count4 = 0\n",
    "\n",
    "for e in y_new4:\n",
    "    if e == 1:\n",
    "        count4 += 1\n",
    "print (\"X_new4 count: %d\"% (X_new4.shape[0]))\n",
    "print (\"# of malignant where shape=irregular and margin=spiculated and age is between 60 and 69: %d\" % (count4))   \n",
    "res4 = float(count4)/X_new4.shape[0]\n",
    "print (\"percentage of people malignant where shape=irregular and margin=spiculated and age is between 60 and 69: %f\" %(res4))"
   ]
  },
  {
   "cell_type": "markdown",
   "metadata": {
    "deletable": true,
    "editable": true
   },
   "source": [
    "In this recent set of evlautions, we added another constraint where samples are between the age of 60 and 69. I decided this because this was the most common age group of samples where the severity is malignant. When the shape is irregular and margin is ill-defined, the percentage goes up about 2.5% of the severity being malignant. When the shape is irregular and the margin is spiculated the percentage stays roughly the same."
   ]
  },
  {
   "cell_type": "markdown",
   "metadata": {
    "deletable": true,
    "editable": true
   },
   "source": [
    "# Now What Does All This Mean?\n",
    "\n",
    "Originally we had a sample size of 961 and after cleaning the data we have a reduced size of 830. Even though 830 is not a large set to determine whether mammographic masses are benign or malignant, it is a strong baseline to compare future unseen data to show whether certain features of a specific sample will predict if they have breast cancer. Ultimately, this data proves that if a patient is coming close to mammographic mass shape being irregular or mass of margin being spiculated/ill-defined or even if their age is in the 50-79 range, they could be seeing the early signs of breast cancer."
   ]
  },
  {
   "cell_type": "markdown",
   "metadata": {
    "deletable": true,
    "editable": true
   },
   "source": [
    "onehotencoding\n",
    "(try linear scale and onehotencoding)\n",
    "\n",
    "recall/precision\n",
    "\n",
    "do not normalize certain factors(onehotenconding)\n",
    "\n",
    "use randomforest feature selection\n",
    "\n",
    "use margin and shape to help determine whether a person has severtity = 1 or not\n",
    "\n",
    "http://scikit-learn.org/0.15/auto_examples/plot_learning_curve.html?fbclid=IwAR261Y0fy0HdgORvwQwIpSxPcd-_9uYjxG-vQ7tdWSPXpEhqIKvexer7k_I"
   ]
  }
 ],
 "metadata": {
  "kernelspec": {
   "display_name": "Python 2",
   "language": "python",
   "name": "python2"
  },
  "language_info": {
   "codemirror_mode": {
    "name": "ipython",
    "version": 2
   },
   "file_extension": ".py",
   "mimetype": "text/x-python",
   "name": "python",
   "nbconvert_exporter": "python",
   "pygments_lexer": "ipython2",
   "version": "2.7.13"
  }
 },
 "nbformat": 4,
 "nbformat_minor": 2
}
